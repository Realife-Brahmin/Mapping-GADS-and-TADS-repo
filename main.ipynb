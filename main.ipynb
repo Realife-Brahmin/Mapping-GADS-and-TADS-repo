{
 "cells": [
  {
   "cell_type": "code",
   "execution_count": 33,
   "metadata": {},
   "outputs": [],
   "source": [
    "import numpy as np"
   ]
  },
  {
   "cell_type": "code",
   "execution_count": 34,
   "metadata": {},
   "outputs": [],
   "source": [
    "import pandas as pd"
   ]
  },
  {
   "cell_type": "code",
   "execution_count": 35,
   "metadata": {},
   "outputs": [
    {
     "data": {
      "text/plain": [
       "9.0"
      ]
     },
     "execution_count": 35,
     "metadata": {},
     "output_type": "execute_result"
    }
   ],
   "source": [
    "hours = np.array([3, 3, 7, 2, 8])\n",
    "marks = np.array([50, 77, 97, 44, 82])\n",
    "grades = np.ceil(marks/10)\n",
    "grades.size\n",
    "grades[4] # one index lower for python"
   ]
  },
  {
   "cell_type": "code",
   "execution_count": 36,
   "metadata": {},
   "outputs": [
    {
     "data": {
      "text/plain": [
       "7.4"
      ]
     },
     "execution_count": 36,
     "metadata": {},
     "output_type": "execute_result"
    }
   ],
   "source": [
    "grades.mean()"
   ]
  },
  {
   "cell_type": "code",
   "execution_count": 37,
   "metadata": {},
   "outputs": [],
   "source": [
    "studentData = np.array([hours, marks, grades])"
   ]
  },
  {
   "cell_type": "code",
   "execution_count": 38,
   "metadata": {},
   "outputs": [],
   "source": [
    "avgStudyHours = studentData[0].mean()"
   ]
  },
  {
   "cell_type": "code",
   "execution_count": 39,
   "metadata": {},
   "outputs": [],
   "source": [
    "avgGrade = studentData[2].mean()"
   ]
  },
  {
   "cell_type": "code",
   "execution_count": 40,
   "metadata": {},
   "outputs": [
    {
     "name": "stdout",
     "output_type": "stream",
     "text": [
      "Average Study Time: 4.6\n",
      "Average Grade: 7.4\n"
     ]
    }
   ],
   "source": [
    "print(f'Average Study Time: {avgStudyHours}\\n' +\n",
    "    f'Average Grade: {avgGrade}')"
   ]
  },
  {
   "cell_type": "code",
   "execution_count": 41,
   "metadata": {},
   "outputs": [],
   "source": [
    "studentName = ['Don', 'Juan', 'Pokemon', 'Bulbasaur', 'PandaBear']"
   ]
  },
  {
   "cell_type": "code",
   "execution_count": 42,
   "metadata": {},
   "outputs": [],
   "source": [
    "df = pd.DataFrame({'Name' : studentName,\n",
    "                'StudyHours' : hours,\n",
    "                'Points' : marks,\n",
    "                'Grades' : grades})"
   ]
  },
  {
   "cell_type": "code",
   "execution_count": 43,
   "metadata": {},
   "outputs": [],
   "source": [
    "avgStudyHours1 = np.mean(df.StudyHours)"
   ]
  },
  {
   "cell_type": "code",
   "execution_count": 44,
   "metadata": {},
   "outputs": [],
   "source": [
    "df1 = df[df.StudyHours > np.mean(df.StudyHours)]"
   ]
  },
  {
   "cell_type": "code",
   "execution_count": 45,
   "metadata": {},
   "outputs": [
    {
     "data": {
      "text/html": [
       "<div>\n",
       "<style scoped>\n",
       "    .dataframe tbody tr th:only-of-type {\n",
       "        vertical-align: middle;\n",
       "    }\n",
       "\n",
       "    .dataframe tbody tr th {\n",
       "        vertical-align: top;\n",
       "    }\n",
       "\n",
       "    .dataframe thead th {\n",
       "        text-align: right;\n",
       "    }\n",
       "</style>\n",
       "<table border=\"1\" class=\"dataframe\">\n",
       "  <thead>\n",
       "    <tr style=\"text-align: right;\">\n",
       "      <th></th>\n",
       "      <th>Name</th>\n",
       "      <th>StudyHours</th>\n",
       "      <th>Points</th>\n",
       "      <th>Grades</th>\n",
       "      <th>Passed</th>\n",
       "    </tr>\n",
       "  </thead>\n",
       "  <tbody>\n",
       "    <tr>\n",
       "      <th>3</th>\n",
       "      <td>Bulbasaur</td>\n",
       "      <td>2</td>\n",
       "      <td>44</td>\n",
       "      <td>5.0</td>\n",
       "      <td>False</td>\n",
       "    </tr>\n",
       "    <tr>\n",
       "      <th>0</th>\n",
       "      <td>Don</td>\n",
       "      <td>3</td>\n",
       "      <td>50</td>\n",
       "      <td>5.0</td>\n",
       "      <td>False</td>\n",
       "    </tr>\n",
       "    <tr>\n",
       "      <th>1</th>\n",
       "      <td>Juan</td>\n",
       "      <td>3</td>\n",
       "      <td>77</td>\n",
       "      <td>8.0</td>\n",
       "      <td>True</td>\n",
       "    </tr>\n",
       "    <tr>\n",
       "      <th>2</th>\n",
       "      <td>Pokemon</td>\n",
       "      <td>7</td>\n",
       "      <td>97</td>\n",
       "      <td>10.0</td>\n",
       "      <td>True</td>\n",
       "    </tr>\n",
       "    <tr>\n",
       "      <th>4</th>\n",
       "      <td>PandaBear</td>\n",
       "      <td>8</td>\n",
       "      <td>82</td>\n",
       "      <td>9.0</td>\n",
       "      <td>True</td>\n",
       "    </tr>\n",
       "  </tbody>\n",
       "</table>\n",
       "</div>"
      ],
      "text/plain": [
       "        Name  StudyHours  Points  Grades  Passed\n",
       "3  Bulbasaur           2      44     5.0   False\n",
       "0        Don           3      50     5.0   False\n",
       "1       Juan           3      77     8.0    True\n",
       "2    Pokemon           7      97    10.0    True\n",
       "4  PandaBear           8      82     9.0    True"
      ]
     },
     "execution_count": 45,
     "metadata": {},
     "output_type": "execute_result"
    }
   ],
   "source": [
    "passed = pd.Series(df.Grades >= 6)\n",
    "dfResult = pd.concat([df, passed.rename('Passed')], axis=1)\n",
    "dfResult.groupby(dfResult.Passed).Name.count()\n",
    "dfResult.groupby(dfResult.Passed)[['Grades', 'StudyHours']].mean() # had to make a 'list' of columnn names inside the square brackets representing the set of columns to be used.\n",
    "dfResult.sort_values('StudyHours')"
   ]
  },
  {
   "cell_type": "code",
   "execution_count": 51,
   "metadata": {},
   "outputs": [
    {
     "data": {
      "image/png": "[encoded data removed]",
      "text/plain": [
       "<Figure size 640x360 with 2 Axes>"
      ]
     },
     "metadata": {},
     "output_type": "display_data"
    }
   ],
   "source": [
    "\n",
    "import seaborn as sns\n",
    "import matplotlib as mpl\n",
    "import matplotlib.pyplot as plt\n",
    "\n",
    "# Set the aesthetic style of the plots\n",
    "sns.set_style(\"whitegrid\")\n",
    "\n",
    "# Create a bar plot\n",
    "# ax = sns.barplot(x=df.Name, y=df.Grades, color='crimson')\n",
    "figure_scale = 0.5\n",
    "default_fig_size = np.array([12.8, 7.2])\n",
    "# fig = plt.figure(figsize=figure_scale*default_fig_size)\n",
    "fig, ax = plt.subplots(1, 2, figsize=figure_scale*default_fig_size)\n",
    "ax[0] = sns.barplot(x=df.Name, y=df.Grades, color=\"xkcd:brown\")\n",
    "ax0 = ax[0]\n",
    "\n",
    "ax0.get_xaxis().set_minor_locator(mpl.ticker.AutoMinorLocator())\n",
    "ax0.get_yaxis().set_minor_locator(mpl.ticker.AutoMinorLocator())\n",
    "ax0.grid(which='major', color=\"xkcd:darkgreen\", linewidth=0.5)\n",
    "ax0.grid(which='minor', color='darkgreen', linewidth=0.1)\n",
    "# # Set labels and title\n",
    "ax0.set_xlabel('Names', size=15)\n",
    "ax0.set_ylabel('Grades')\n",
    "ax0.set_title('Student Grades')\n",
    "ax0.set_xticklabels(dfResult.Name, rotation=45)\n",
    "# plt.xticks(rotation=45)\n",
    "\n",
    "\n",
    "plt.show()\n"
   ]
  },
  {
   "cell_type": "code",
   "execution_count": null,
   "metadata": {},
   "outputs": [],
   "source": []
  },
  {
   "cell_type": "code",
   "execution_count": null,
   "metadata": {},
   "outputs": [],
   "source": [
    "\n"
   ]
  },
  {
   "cell_type": "code",
   "execution_count": null,
   "metadata": {},
   "outputs": [],
   "source": [
    "\n"
   ]
  },
  {
   "cell_type": "code",
   "execution_count": 50,
   "metadata": {},
   "outputs": [],
   "source": []
  },
  {
   "cell_type": "code",
   "execution_count": null,
   "metadata": {},
   "outputs": [],
   "source": []
  }
 ],
 "metadata": {
  "kernelspec": {
   "display_name": "Python 3",
   "language": "python",
   "name": "python3"
  },
  "language_info": {
   "codemirror_mode": {
    "name": "ipython",
    "version": 3
   },
   "file_extension": ".py",
   "mimetype": "text/x-python",
   "name": "python",
   "nbconvert_exporter": "python",
   "pygments_lexer": "ipython3",
   "version": "3.9.19"
  }
 },
 "nbformat": 4,
 "nbformat_minor": 2
}
