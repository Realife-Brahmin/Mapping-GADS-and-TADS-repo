{
 "cells": [
  {
   "cell_type": "code",
   "execution_count": 21,
   "metadata": {},
   "outputs": [],
   "source": [
    "import pandas as pd\n",
    "import os\n",
    "import sys\n",
    "import IPython"
   ]
  },
  {
   "cell_type": "code",
   "execution_count": 22,
   "metadata": {},
   "outputs": [
    {
     "name": "stdout",
     "output_type": "stream",
     "text": [
      "We seem to be working in a JuPyteR Notebook\n"
     ]
    }
   ],
   "source": [
    "try:\n",
    "    fileAddr = __vsc_ipynb_file__ # type: ignore # vscode only, Pylance seems to have an issue with this macro, so ignoring the warning\n",
    "    wd = os.path.dirname(fileAddr)\n",
    "    print(\"We seem to be working in a JuPyteR Notebook\")\n",
    "except:\n",
    "    wd = os.getcwd()\n",
    "    print(\"We seem to be working in a regular .py file\")\n",
    "    \n",
    "\n",
    "rawDataFolder = os.path.join(wd, \"rawData\")\n",
    "processedDataFolder = os.path.join(wd, \"processedData/\")"
   ]
  },
  {
   "cell_type": "code",
   "execution_count": 23,
   "metadata": {},
   "outputs": [
    {
     "name": "stdout",
     "output_type": "stream",
     "text": [
      "Size of Match_file csv before any filtering: 3080, 53\n"
     ]
    }
   ],
   "source": [
    "matchFileAddr = os.path.join(rawDataFolder, \"Match_file.csv\")\n",
    "dfMatch = pd.read_csv(matchFileAddr)\n",
    "colNamesMatch = dfMatch.columns.tolist()\n",
    "colNamesMatch\n",
    "matchedIndices = dfMatch['Rec_ID'].notna()\n",
    "num = sum(matchedIndices)\n",
    "dfMatched = dfMatch[matchedIndices]\n",
    "dfMatched.to_excel(\"dfMatched.xlsx\")\n",
    "sizeMatched0 = dfMatched.shape\n",
    "print(f\"Size of Match_file csv before any filtering: {sizeMatched0[0]}, {sizeMatched0[1]}\")"
   ]
  },
  {
   "cell_type": "code",
   "execution_count": 24,
   "metadata": {},
   "outputs": [
    {
     "name": "stderr",
     "output_type": "stream",
     "text": [
      "C:\\Users\\jhaa\\AppData\\Local\\Temp\\ipykernel_46968\\3136142635.py:2: DtypeWarning: Columns (35) have mixed types. Specify dtype option on import or set low_memory=False.\n",
      "  dfTads = pd.read_csv(tadsFileAddr)\n"
     ]
    },
    {
     "name": "stdout",
     "output_type": "stream",
     "text": [
      "Size of TADS db before filtering: 301152, 47\n"
     ]
    }
   ],
   "source": [
    "tadsFileAddr = os.path.join(rawDataFolder, \"TADS 2024 AC Inventory.csv\")\n",
    "dfTads = pd.read_csv(tadsFileAddr)\n",
    "sizeTads0 = dfTads.shape\n",
    "print(f\"Size of TADS db before filtering: {sizeTads0[0]}, {sizeTads0[1]}\")\n",
    "# display(dftads)"
   ]
  },
  {
   "cell_type": "code",
   "execution_count": 25,
   "metadata": {},
   "outputs": [
    {
     "name": "stdout",
     "output_type": "stream",
     "text": [
      "c:\\Users\\jhaa\\Documents\\documents_general\\extreme-weather-repo\\rawData\\tlines-near-chicago-ohare-raw.xlsx\n",
      "Size of velocity suite db before any filtering: 524, 21\n"
     ]
    }
   ],
   "source": [
    "veloFileAddr = os.path.join(rawDataFolder, \"tlines-near-chicago-ohare-raw.xlsx\") # tlines which are <= 50miles from `Chicago/Ohare` weather station\n",
    "print(veloFileAddr)\n",
    "dfVelo0 = pd.read_excel(veloFileAddr, engine='openpyxl')\n",
    "sizeVelo0 = dfVelo0.shape\n",
    "print(f\"Size of velocity suite db before any filtering: {sizeVelo0[0]}, {sizeVelo0[1]}\")\n",
    "# dfVelo0"
   ]
  },
  {
   "cell_type": "code",
   "execution_count": 26,
   "metadata": {},
   "outputs": [
    {
     "name": "stdout",
     "output_type": "stream",
     "text": [
      "Size of velocity suite db before any filtering: 446, 21\n"
     ]
    }
   ],
   "source": [
    "# Filter rows with 'Undetermined Company`\n",
    "dfVelo = dfVelo0[ dfVelo0['Company Name'] != 'Undetermined Company' ] \n",
    "# Filter tlines with less than 100kV voltage\n",
    "dfVelo = dfVelo[ dfVelo['Voltage kV'] >= 100 ]\n",
    "# Filter tlines not currently in service\n",
    "dfVelo = dfVelo[ dfVelo['Proposed'] == 'In Service']\n",
    "sizeVelo = dfVelo.shape\n",
    "print(f\"Size of velocity suite db before any filtering: {sizeVelo[0]}, {sizeVelo[1]}\")\n",
    "# dfVelo\n"
   ]
  },
  {
   "cell_type": "code",
   "execution_count": 27,
   "metadata": {},
   "outputs": [
    {
     "name": "stdout",
     "output_type": "stream",
     "text": [
      "Size of velocity suite db before any filtering: 446, 21\n"
     ]
    }
   ],
   "source": [
    "dfVeloMatched = dfVelo[dfVelo['Rec_ID'].isin(dfMatched['Rec_ID'])]\n",
    "dfVeloMatched\n",
    "veloMatchedAddr = os.path.join(processedDataFolder, \"dfVeloMatched.xlsx\")\n",
    "veloMatchedAddr\n",
    "dfVeloMatched.to_excel(\"dfVeloMatched.xlsx\")\n",
    "sizeVelo = dfVelo.shape\n",
    "print(f\"Size of velocity suite db before any filtering: {sizeVelo[0]}, {sizeVelo[1]}\")\n",
    "# dfVeloMatched"
   ]
  },
  {
   "cell_type": "code",
   "execution_count": null,
   "metadata": {},
   "outputs": [],
   "source": []
  }
 ],
 "metadata": {
  "kernelspec": {
   "display_name": "Python 3",
   "language": "python",
   "name": "python3"
  },
  "language_info": {
   "codemirror_mode": {
    "name": "ipython",
    "version": 3
   },
   "file_extension": ".py",
   "mimetype": "text/x-python",
   "name": "python",
   "nbconvert_exporter": "python",
   "pygments_lexer": "ipython3",
   "version": "3.9.19"
  }
 },
 "nbformat": 4,
 "nbformat_minor": 2
}
