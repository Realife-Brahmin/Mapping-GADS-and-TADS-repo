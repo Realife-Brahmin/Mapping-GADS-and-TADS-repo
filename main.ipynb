{
 "cells": [
  {
   "cell_type": "code",
   "execution_count": 1,
   "metadata": {},
   "outputs": [],
   "source": [
    "import numpy as np"
   ]
  },
  {
   "cell_type": "code",
   "execution_count": 2,
   "metadata": {},
   "outputs": [],
   "source": [
    "import pandas as pd"
   ]
  },
  {
   "cell_type": "code",
   "execution_count": 3,
   "metadata": {},
   "outputs": [
    {
     "data": {
      "text/plain": [
       "9.0"
      ]
     },
     "execution_count": 3,
     "metadata": {},
     "output_type": "execute_result"
    }
   ],
   "source": [
    "hours = np.array([3, 3, 7, 2, 8])\n",
    "marks = np.array([50, 77, 97, 44, 82])\n",
    "grades = np.ceil(marks/10)\n",
    "grades.size\n",
    "grades[4] # one index lower for python"
   ]
  },
  {
   "cell_type": "code",
   "execution_count": 4,
   "metadata": {},
   "outputs": [
    {
     "data": {
      "text/plain": [
       "7.4"
      ]
     },
     "execution_count": 4,
     "metadata": {},
     "output_type": "execute_result"
    }
   ],
   "source": [
    "grades.mean()"
   ]
  },
  {
   "cell_type": "code",
   "execution_count": 5,
   "metadata": {},
   "outputs": [],
   "source": [
    "studentData = np.array([hours, marks, grades])"
   ]
  },
  {
   "cell_type": "code",
   "execution_count": 6,
   "metadata": {},
   "outputs": [],
   "source": [
    "avgStudyHours = studentData[0].mean()"
   ]
  },
  {
   "cell_type": "code",
   "execution_count": 7,
   "metadata": {},
   "outputs": [],
   "source": [
    "avgGrade = studentData[2].mean()"
   ]
  },
  {
   "cell_type": "code",
   "execution_count": 8,
   "metadata": {},
   "outputs": [
    {
     "name": "stdout",
     "output_type": "stream",
     "text": [
      "Average Study Time: 4.6\n",
      "Average Grade: 7.4\n"
     ]
    }
   ],
   "source": [
    "print(f'Average Study Time: {avgStudyHours}\\n' +\n",
    "    f'Average Grade: {avgGrade}')"
   ]
  },
  {
   "cell_type": "code",
   "execution_count": 9,
   "metadata": {},
   "outputs": [],
   "source": [
    "studentName = ['Don', 'Juan', 'Pokemon', 'Bulbasaur', 'PandaBear']"
   ]
  },
  {
   "cell_type": "code",
   "execution_count": 10,
   "metadata": {},
   "outputs": [],
   "source": [
    "df = pd.DataFrame({'Name' : studentName,\n",
    "                'StudyHours' : hours,\n",
    "                'Points' : marks,\n",
    "                'Grades' : grades})"
   ]
  },
  {
   "cell_type": "code",
   "execution_count": 11,
   "metadata": {},
   "outputs": [],
   "source": [
    "avgStudyHours1 = np.mean(df.StudyHours)"
   ]
  },
  {
   "cell_type": "code",
   "execution_count": 12,
   "metadata": {},
   "outputs": [],
   "source": [
    "df1 = df[df.StudyHours > np.mean(df.StudyHours)]"
   ]
  },
  {
   "cell_type": "code",
   "execution_count": 13,
   "metadata": {},
   "outputs": [
    {
     "data": {
      "text/html": [
       "<div>\n",
       "<style scoped>\n",
       "    .dataframe tbody tr th:only-of-type {\n",
       "        vertical-align: middle;\n",
       "    }\n",
       "\n",
       "    .dataframe tbody tr th {\n",
       "        vertical-align: top;\n",
       "    }\n",
       "\n",
       "    .dataframe thead th {\n",
       "        text-align: right;\n",
       "    }\n",
       "</style>\n",
       "<table border=\"1\" class=\"dataframe\">\n",
       "  <thead>\n",
       "    <tr style=\"text-align: right;\">\n",
       "      <th></th>\n",
       "      <th>Name</th>\n",
       "      <th>StudyHours</th>\n",
       "      <th>Points</th>\n",
       "      <th>Grades</th>\n",
       "      <th>Passed</th>\n",
       "    </tr>\n",
       "  </thead>\n",
       "  <tbody>\n",
       "    <tr>\n",
       "      <th>3</th>\n",
       "      <td>Bulbasaur</td>\n",
       "      <td>2</td>\n",
       "      <td>44</td>\n",
       "      <td>5.0</td>\n",
       "      <td>False</td>\n",
       "    </tr>\n",
       "    <tr>\n",
       "      <th>0</th>\n",
       "      <td>Don</td>\n",
       "      <td>3</td>\n",
       "      <td>50</td>\n",
       "      <td>5.0</td>\n",
       "      <td>False</td>\n",
       "    </tr>\n",
       "    <tr>\n",
       "      <th>1</th>\n",
       "      <td>Juan</td>\n",
       "      <td>3</td>\n",
       "      <td>77</td>\n",
       "      <td>8.0</td>\n",
       "      <td>True</td>\n",
       "    </tr>\n",
       "    <tr>\n",
       "      <th>2</th>\n",
       "      <td>Pokemon</td>\n",
       "      <td>7</td>\n",
       "      <td>97</td>\n",
       "      <td>10.0</td>\n",
       "      <td>True</td>\n",
       "    </tr>\n",
       "    <tr>\n",
       "      <th>4</th>\n",
       "      <td>PandaBear</td>\n",
       "      <td>8</td>\n",
       "      <td>82</td>\n",
       "      <td>9.0</td>\n",
       "      <td>True</td>\n",
       "    </tr>\n",
       "  </tbody>\n",
       "</table>\n",
       "</div>"
      ],
      "text/plain": [
       "        Name  StudyHours  Points  Grades  Passed\n",
       "3  Bulbasaur           2      44     5.0   False\n",
       "0        Don           3      50     5.0   False\n",
       "1       Juan           3      77     8.0    True\n",
       "2    Pokemon           7      97    10.0    True\n",
       "4  PandaBear           8      82     9.0    True"
      ]
     },
     "execution_count": 13,
     "metadata": {},
     "output_type": "execute_result"
    }
   ],
   "source": [
    "passed = pd.Series(df.Grades >= 6)\n",
    "dfResult = pd.concat([df, passed.rename('Passed')], axis=1)\n",
    "dfResult.groupby(dfResult.Passed).Name.count()\n",
    "dfResult.groupby(dfResult.Passed)[['Grades', 'StudyHours']].mean() # had to make a 'list' of columnn names inside the square brackets representing the set of columns to be used.\n",
    "dfResult.sort_values('StudyHours')"
   ]
  },
  {
   "cell_type": "code",
   "execution_count": 14,
   "metadata": {},
   "outputs": [
    {
     "data": {
      "image/png": "[encoded data removed]",
      "text/plain": [
       "<Figure size 640x480 with 1 Axes>"
      ]
     },
     "metadata": {},
     "output_type": "display_data"
    }
   ],
   "source": [
    "\n",
    "\n",
    "\n",
    "# from matplotlib import pyplot as plt\n",
    "# plt.bar(x=df.Name, height=df.Grades, color='red')\n",
    "# plt.title(\"Student Grades\")\n",
    "# plt.xlabel(\"Name\")\n",
    "# plt.ylabel(\"Grade\")\n",
    "# plt.show()\n",
    "# import matplotlib.pyplot as plt\n",
    "# import numpy as np\n",
    "\n",
    "# # Sample data\n",
    "# # categories = ['Category A', 'Category B', 'Category C', 'Category D']\n",
    "# # values = [10, 15, 7, 10]\n",
    "\n",
    "# fig, ax = plt.subplots()\n",
    "\n",
    "# # Create a bar graph\n",
    "# bars = ax.bar(df.Name, df.Grades, color=plt.cm.Paired(np.arange(len(df.Name))))\n",
    "\n",
    "# # Adding minor grid lines\n",
    "# ax.grid(True, which='both', axis='y', linestyle='--', linewidth=0.5)\n",
    "# ax.set_axisbelow(True)\n",
    "\n",
    "# # Major grid lines\n",
    "# ax.grid(True, which='major', linestyle='-', linewidth='0.5', color='gray')\n",
    "\n",
    "# # Set labels and title\n",
    "# ax.set_xlabel('Names')\n",
    "# ax.set_ylabel('Grades')\n",
    "# ax.set_title('Student Grades')\n",
    "\n",
    "# # Adding a legend (optional)\n",
    "# ax.legend(bars, df.Name)\n",
    "\n",
    "# # Show plot\n",
    "\n",
    "# plt.show()\n",
    "\n",
    "import seaborn as sns\n",
    "import matplotlib as mpl\n",
    "import matplotlib.pyplot as plt\n",
    "\n",
    "# Set the aesthetic style of the plots\n",
    "sns.set_style(\"whitegrid\")\n",
    "\n",
    "# Create a bar plot\n",
    "# ax = sns.barplot(x=df.Name, y=df.Grades, color='crimson')\n",
    "\n",
    "ax = sns.barplot(x=df.Name, y=df.Grades, color=\"cornflowerblue\")\n",
    "ax.get_xaxis().set_minor_locator(mpl.ticker.AutoMinorLocator())\n",
    "ax.get_yaxis().set_minor_locator(mpl.ticker.AutoMinorLocator())\n",
    "ax.grid(which='major', color=\"xkcd:darkgreen\", linewidth=0.5)\n",
    "ax.grid(which='minor', color='darkgreen', linewidth=0.1)\n",
    "# Set labels and title\n",
    "ax.set_xlabel('Names', size=15)\n",
    "ax.set_ylabel('Grades')\n",
    "ax.set_title('Student Grades')\n",
    "\n",
    "plt.show()\n"
   ]
  },
  {
   "cell_type": "code",
   "execution_count": null,
   "metadata": {},
   "outputs": [],
   "source": []
  },
  {
   "cell_type": "code",
   "execution_count": null,
   "metadata": {},
   "outputs": [],
   "source": []
  }
 ],
 "metadata": {
  "kernelspec": {
   "display_name": "Python 3",
   "language": "python",
   "name": "python3"
  },
  "language_info": {
   "codemirror_mode": {
    "name": "ipython",
    "version": 3
   },
   "file_extension": ".py",
   "mimetype": "text/x-python",
   "name": "python",
   "nbconvert_exporter": "python",
   "pygments_lexer": "ipython3",
   "version": "3.9.19"
  }
 },
 "nbformat": 4,
 "nbformat_minor": 2
}
