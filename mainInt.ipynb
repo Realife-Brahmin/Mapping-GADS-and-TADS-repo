{
 "cells": [
  {
   "cell_type": "markdown",
   "metadata": {},
   "source": [
    "Connected to .conda (Python 3.9.19)"
   ]
  },
  {
   "cell_type": "code",
   "execution_count": 1,
   "id": "cf19cf2e-05d9-4df1-b64b-ab5bafc95ce0",
   "metadata": {},
   "outputs": [],
   "source": [
    "import os\n",
    "import sys\n",
    "import IPython\n",
    "import pandas as pd"
   ]
  },
  {
   "cell_type": "code",
   "execution_count": 2,
   "id": "55fb06f2-8b8d-4df1-a35e-2d3211d1cfab",
   "metadata": {},
   "outputs": [
    {
     "name": "stdout",
     "output_type": "stream",
     "text": [
      "We seem to be working in a JuPyteR Notebook\n"
     ]
    }
   ],
   "source": [
    "try:\n",
    "    fileAddr = __vsc_ipynb_file__ # type: ignore # vscode only, Pylance seems to have an issue with this macro, so ignoring the warning\n",
    "    wd = os.path.dirname(fileAddr)\n",
    "    print(\"We seem to be working in a JuPyteR Notebook\")\n",
    "except:\n",
    "    wd = os.getcwd()\n",
    "    print(\"We seem to be working in a regular .py file\")\n",
    "    \n",
    "\n",
    "rawDataFolder = os.path.join(wd, \"rawData\")\n",
    "processedDataFolder = os.path.join(wd, \"processedData/\")"
   ]
  },
  {
   "cell_type": "code",
   "execution_count": 3,
   "id": "ad7d9fa1-03e0-4876-892a-1f528ff0d6e5",
   "metadata": {},
   "outputs": [
    {
     "name": "stdout",
     "output_type": "stream",
     "text": [
      "Size of Match_file csv before any filtering: 3080, 53\n"
     ]
    }
   ],
   "source": [
    "matchFileAddr = os.path.join(rawDataFolder, \"Match_file.csv\")\n",
    "dfMatch = pd.read_csv(matchFileAddr)\n",
    "colNamesMatch = dfMatch.columns.tolist()\n",
    "colNamesMatch\n",
    "matchedIndices = dfMatch['Rec_ID'].notna()\n",
    "num = sum(matchedIndices)\n",
    "dfMatched = dfMatch[matchedIndices]\n",
    "dfMatched.to_excel(\"dfMatched.xlsx\")\n",
    "sizeMatched0 = dfMatched.shape\n",
    "print(f\"Size of Match_file csv before any filtering: {sizeMatched0[0]}, {sizeMatched0[1]}\")"
   ]
  },
  {
   "cell_type": "code",
   "execution_count": 4,
   "id": "021c7bb8-7031-459d-89ac-231cac3a19a0",
   "metadata": {},
   "outputs": [
    {
     "name": "stdout",
     "output_type": "stream",
     "text": [
      "Size of TADS db before filtering: 301152, 47\n",
      "There are 304 unique companies owning tlines in the entire TADS database.\n"
     ]
    },
    {
     "name": "stderr",
     "output_type": "stream",
     "text": [
      "<ipython-input-4-081c3e414d19>:3: DtypeWarning: Columns (35) have mixed types. Specify dtype option on import or set low_memory=False.\n",
      "  dfTads0 = pd.read_csv(tadsFileAddr)\n"
     ]
    }
   ],
   "source": [
    "tadsFileAddr = os.path.join(rawDataFolder, \"TADS 2024 AC Inventory.csv\")\n",
    "dfTads0 = pd.read_csv(tadsFileAddr)\n",
    "sizeTads0 = dfTads0.shape\n",
    "print(f\"Size of TADS db before filtering: {sizeTads0[0]}, {sizeTads0[1]}\")\n",
    "companyNamesTads0 = set(dfTads0.CompanyName)\n",
    "numCompaniesTads0 = len(companyNamesTads0)\n",
    "print(f\"There are {numCompaniesTads0} unique companies owning tlines in the entire TADS database.\")\n",
    "# display(dftads)"
   ]
  },
  {
   "cell_type": "code",
   "execution_count": 5,
   "id": "ce629aef-766b-4d80-8d60-553062f00648",
   "metadata": {},
   "outputs": [
    {
     "name": "stdout",
     "output_type": "stream",
     "text": [
      "c:\\Users\\jhaa\\Documents\\documents_general\\extreme-weather-repo\\rawData\\tlines-near-chicago-ohare-raw.xlsx\n",
      "Size of velocity suite db before any filtering: 524, 21\n"
     ]
    }
   ],
   "source": [
    "location = \"chicago-ohare\"\n",
    "veloFileAddr = os.path.join(rawDataFolder, \"tlines-near-chicago-ohare-raw.xlsx\") # tlines which are <= 50miles from `Chicago/Ohare` weather station\n",
    "print(veloFileAddr)\n",
    "dfVelo0 = pd.read_excel(veloFileAddr, engine='openpyxl')\n",
    "sizeVelo0 = dfVelo0.shape\n",
    "print(f\"Size of velocity suite db before any filtering: {sizeVelo0[0]}, {sizeVelo0[1]}\")\n",
    "# dfVelo0"
   ]
  },
  {
   "cell_type": "code",
   "execution_count": 6,
   "id": "139fce93-9e4e-4a4a-964e-edd653d40014",
   "metadata": {},
   "outputs": [
    {
     "name": "stdout",
     "output_type": "stream",
     "text": [
      "Size of velocity suite db after filtering for Company Names, Voltage [kV] and 'Proposed': 446, 21\n",
      "There are 5 named companies owning the tlines near chicago-ohare\n",
      "Their names are:\n",
      "{'Northern Indiana Public Service Co LLC', 'American Transmission Co LLC', 'AmerenIP', 'Commonwealth Edison Co', 'Northern Municipal Power Agency'}\n",
      "Now let's see how many tlines are owned by these 5 companies in the entire TADS database:\n",
      "Size of TADS db after filtering: 0, 47\n"
     ]
    }
   ],
   "source": [
    "# Filter rows with 'Undetermined Company`\n",
    "dfVelo = dfVelo0[ dfVelo0['Company Name'] != 'Undetermined Company' ] \n",
    "# Filter tlines with less than 100kV voltage\n",
    "dfVelo = dfVelo[ dfVelo['Voltage kV'] >= 100 ]\n",
    "# Filter tlines not currently in service\n",
    "dfVelo = dfVelo[ dfVelo['Proposed'] == 'In Service']\n",
    "sizeVelo = dfVelo.shape\n",
    "print(f\"Size of velocity suite db after filtering for Company Names, Voltage [kV] and 'Proposed': {sizeVelo[0]}, {sizeVelo[1]}\")\n",
    "companyNamesVelo = set(dfVelo['Company Name'])\n",
    "numCompaniesVelo = len(companyNamesVelo)\n",
    "print(f\"There are {numCompaniesVelo} named companies owning the tlines near {location}\")\n",
    "print(f\"Their names are:\")\n",
    "print(companyNamesVelo)\n",
    "# dfVelo\n",
    "\n",
    "print(f\"Now let's see how many tlines are owned by these {numCompaniesVelo} \"       \"companies in the entire TADS database:\")\n",
    "\n",
    "# dfTads = dfTads0.query('CompanyName == companyNamesVelo')\n",
    "dfTads = dfTads0[dfTads0.CompanyName.isin(companyNamesVelo)]\n",
    "sizeTads = dfTads.shape\n",
    "print(f\"Size of TADS db after filtering: {sizeTads[0]}, {sizeTads[1]}\")"
   ]
  },
  {
   "cell_type": "code",
   "execution_count": 7,
   "id": "30dca53e-8c1b-4904-ba69-fb35f397e93d",
   "metadata": {},
   "outputs": [],
   "source": [
    "dfVeloMatched = dfVelo[dfVelo['Rec_ID'].isin(dfMatched['Rec_ID'])]\n",
    "dfVeloMatched\n",
    "veloMatchedAddr = os.path.join(processedDataFolder, \"dfVeloMatched.xlsx\")\n",
    "veloMatchedAddr\n",
    "dfVeloMatched.to_excel(\"dfVeloMatched.xlsx\")\n",
    "# sizeVelo = dfVelo.shape\n",
    "# print(f\"Size of velocity suite db before any filtering: {sizeVelo[0]}, {sizeVelo[1]}\")\n",
    "# dfVeloMatched"
   ]
  },
  {
   "cell_type": "code",
   "execution_count": 8,
   "id": "72991428-a227-4a6e-8a6c-da19c5dcd7a1",
   "metadata": {},
   "outputs": [
    {
     "name": "stdout",
     "output_type": "stream",
     "text": [
      "Size of velocity suite db after filtering for Company Names, Voltage [kV] and 'Proposed': 446, 21\n",
      "There are 5 named companies owning the tlines near chicago-ohare\n",
      "Their names are:\n",
      "{'Northern Indiana Public Service Co LLC', 'American Transmission Co LLC', 'AmerenIP', 'Commonwealth Edison Co', 'Northern Municipal Power Agency'}\n",
      "Now let's see how many tlines are owned by these 5 companies in the entire TADS database:\n",
      "Size of TADS db after filtering: 0, 47\n"
     ]
    }
   ],
   "source": [
    "# Filter rows with 'Undetermined Company`\n",
    "dfVelo = dfVelo0[ dfVelo0['Company Name'] != 'Undetermined Company' ] \n",
    "# Filter tlines with less than 100kV voltage\n",
    "dfVelo = dfVelo[ dfVelo['Voltage kV'] >= 100 ]\n",
    "# Filter tlines not currently in service\n",
    "dfVelo = dfVelo[ dfVelo['Proposed'] == 'In Service']\n",
    "sizeVelo = dfVelo.shape\n",
    "print(f\"Size of velocity suite db after filtering for Company Names, Voltage [kV] and 'Proposed': {sizeVelo[0]}, {sizeVelo[1]}\")\n",
    "companyNamesVelo = set(dfVelo['Company Name'])\n",
    "numCompaniesVelo = len(companyNamesVelo)\n",
    "print(f\"There are {numCompaniesVelo} named companies owning the tlines near {location}\")\n",
    "print(f\"Their names are:\")\n",
    "print(companyNamesVelo)\n",
    "# dfVelo\n",
    "\n",
    "print(f\"Now let's see how many tlines are owned by these {numCompaniesVelo} \"       \"companies in the entire TADS database:\")\n",
    "\n",
    "# dfTads = dfTads0.query('CompanyName == companyNamesVelo')\n",
    "dfTads = dfTads0[dfTads0['CompanyName'].isin(companyNamesVelo)]\n",
    "sizeTads = dfTads.shape\n",
    "print(f\"Size of TADS db after filtering: {sizeTads[0]}, {sizeTads[1]}\")"
   ]
  },
  {
   "cell_type": "code",
   "execution_count": 9,
   "metadata": {},
   "outputs": [
    {
     "data": {
      "text/plain": [
       "0         Long Island Power Authority\n",
       "1         Long Island Power Authority\n",
       "2         Long Island Power Authority\n",
       "3         Long Island Power Authority\n",
       "4         Long Island Power Authority\n",
       "                     ...             \n",
       "301147        FirstEnergy Corporation\n",
       "301148        FirstEnergy Corporation\n",
       "301149        FirstEnergy Corporation\n",
       "301150        FirstEnergy Corporation\n",
       "301151        FirstEnergy Corporation\n",
       "Name: CompanyName, Length: 301152, dtype: object"
      ]
     },
     "execution_count": 9,
     "metadata": {},
     "output_type": "execute_result"
    }
   ],
   "source": [
    "dfTads0['CompanyName']"
   ]
  },
  {
   "cell_type": "code",
   "execution_count": 10,
   "metadata": {},
   "outputs": [
    {
     "data": {
      "text/plain": [
       "'Long Island Power Authority'"
      ]
     },
     "execution_count": 10,
     "metadata": {},
     "output_type": "execute_result"
    }
   ],
   "source": [
    "dfTads0['CompanyName'][0]"
   ]
  },
  {
   "cell_type": "code",
   "execution_count": 11,
   "metadata": {},
   "outputs": [
    {
     "data": {
      "text/plain": [
       "'Long Island Power Authority'"
      ]
     },
     "execution_count": 11,
     "metadata": {},
     "output_type": "execute_result"
    }
   ],
   "source": [
    "dfTads0['CompanyName'][1]"
   ]
  },
  {
   "cell_type": "code",
   "execution_count": 12,
   "metadata": {},
   "outputs": [
    {
     "data": {
      "text/plain": [
       "'British Columbia Hydro'"
      ]
     },
     "execution_count": 12,
     "metadata": {},
     "output_type": "execute_result"
    }
   ],
   "source": [
    "dfTads0['CompanyName'][500]"
   ]
  },
  {
   "cell_type": "code",
   "execution_count": 13,
   "metadata": {},
   "outputs": [
    {
     "data": {
      "text/plain": [
       "'HydroOne Networks'"
      ]
     },
     "execution_count": 13,
     "metadata": {},
     "output_type": "execute_result"
    }
   ],
   "source": [
    "dfTads0['CompanyName'][5000]"
   ]
  },
  {
   "cell_type": "code",
   "execution_count": 14,
   "metadata": {},
   "outputs": [
    {
     "data": {
      "text/plain": [
       "'CPS Energy'"
      ]
     },
     "execution_count": 14,
     "metadata": {},
     "output_type": "execute_result"
    }
   ],
   "source": [
    "dfTads0['CompanyName'][50000]"
   ]
  },
  {
   "cell_type": "code",
   "execution_count": 15,
   "metadata": {},
   "outputs": [
    {
     "data": {
      "text/plain": [
       "'Western Area Power Administration - Desert Southwest Region'"
      ]
     },
     "execution_count": 15,
     "metadata": {},
     "output_type": "execute_result"
    }
   ],
   "source": [
    "dfTads0['CompanyName'][10000]"
   ]
  },
  {
   "cell_type": "code",
   "execution_count": 16,
   "metadata": {},
   "outputs": [
    {
     "data": {
      "text/plain": [
       "'Bonneville Power Administration'"
      ]
     },
     "execution_count": 16,
     "metadata": {},
     "output_type": "execute_result"
    }
   ],
   "source": [
    "dfTads0['CompanyName'][20000]"
   ]
  },
  {
   "cell_type": "code",
   "execution_count": 17,
   "metadata": {},
   "outputs": [
    {
     "data": {
      "text/plain": [
       "'Southern Company Transmission'"
      ]
     },
     "execution_count": 17,
     "metadata": {},
     "output_type": "execute_result"
    }
   ],
   "source": [
    "dfTads0['CompanyName'][30000]"
   ]
  },
  {
   "cell_type": "code",
   "execution_count": 1,
   "metadata": {},
   "outputs": [
    {
     "ename": "NameError",
     "evalue": "name 'dfTads0' is not defined",
     "output_type": "error",
     "traceback": [
      "\u001b[1;31m---------------------------------------------------------------------------\u001b[0m",
      "\u001b[1;31mNameError\u001b[0m                                 Traceback (most recent call last)",
      "Cell \u001b[1;32mIn[1], line 1\u001b[0m\n\u001b[1;32m----> 1\u001b[0m \u001b[43mdfTads0\u001b[49m[\u001b[38;5;124m'\u001b[39m\u001b[38;5;124mCompanyName\u001b[39m\u001b[38;5;124m'\u001b[39m][\u001b[38;5;241m40000\u001b[39m]\n",
      "\u001b[1;31mNameError\u001b[0m: name 'dfTads0' is not defined"
     ]
    },
    {
     "ename": "",
     "evalue": "",
     "output_type": "error",
     "traceback": [
      "\u001b[1;31mThe Kernel crashed while executing code in the current cell or a previous cell. \n",
      "\u001b[1;31mPlease review the code in the cell(s) to identify a possible cause of the failure. \n",
      "\u001b[1;31mClick <a href='https://aka.ms/vscodeJupyterKernelCrash'>here</a> for more info. \n",
      "\u001b[1;31mView Jupyter <a href='command:jupyter.viewOutput'>log</a> for further details."
     ]
    }
   ],
   "source": [
    "dfTads0['CompanyName'][40000]"
   ]
  },
  {
   "cell_type": "code",
   "execution_count": null,
   "metadata": {},
   "outputs": [],
   "source": []
  }
 ],
 "metadata": {
  "kernelspec": {
   "display_name": "Python 3",
   "language": "python",
   "name": "python3"
  },
  "language_info": {
   "codemirror_mode": {
    "name": "ipython",
    "version": 3
   },
   "file_extension": ".py",
   "mimetype": "text/x-python",
   "name": "python",
   "nbconvert_exporter": "python",
   "pygments_lexer": "ipython3",
   "version": "3.9.19"
  }
 },
 "nbformat": 4,
 "nbformat_minor": 2
}
